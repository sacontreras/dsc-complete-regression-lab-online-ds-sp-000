{
 "cells": [
  {
   "cell_type": "markdown",
   "metadata": {},
   "source": [
    "# Complete Regression - Lab\n",
    "\n",
    "## Introduction\n",
    "By now, you have created all the necessary functions to calculate the slope, intercept, best-fit line, prediction and visualizations. In this lab you will put them all together to run a regression experiment and calculate the model loss. \n",
    "\n",
    "## Objectives\n",
    "\n",
    "You will be able to:\n",
    "\n",
    "* Run a complete regression analysis using python\n",
    "\n",
    "## The formulas\n",
    "\n",
    "**Slope**: \n",
    "$\\hat m = \\dfrac{\\overline{x}*\\overline{y}-\\overline{xy}}{(\\overline{x})^2-\\overline{x^2}}$\n",
    "\n",
    "\n",
    "**Intercept**: $ \\hat c = \\bar{y} - \\hat m\\bar{x}$\n",
    "\n",
    "**Prediction**: $\\hat{y} = \\hat mx + \\hat c$\n",
    "\n",
    "**R-Squared**: \n",
    "$ R^2 = 1- \\dfrac{SS_{RES}}{SS_{TOT}} = 1 - \\dfrac{\\sum_i(y_i - \\hat y_i)^2}{\\sum_i(y_i - \\overline y_i)^2} $\n",
    "\n",
    "\n",
    "Use the python functions created earlier to implement these formulas to run a regression analysis using x and y as input variables. "
   ]
  },
  {
   "cell_type": "code",
   "execution_count": 1,
   "metadata": {},
   "outputs": [],
   "source": [
    "# Combine all the functions created so far to run a complete regression experiment. \n",
    "# Produce an output similar to the one shown below.\n",
    "\n",
    "import numpy as np\n",
    "\n",
    "X = np.array([1,2,3,4,5,6,7,8,9,10], dtype=np.float64)\n",
    "Y = np.array([7,7,8,9,9,10,10,11,11,12], dtype=np.float64)"
   ]
  },
  {
   "cell_type": "code",
   "execution_count": 2,
   "metadata": {},
   "outputs": [
    {
     "name": "stdout",
     "output_type": "stream",
     "text": [
      "Basic Regression Diagnostics\n",
      "----------------------------\n",
      "Slope: 0.56\n",
      "Y-Intercept:  6.33\n",
      "R-Squared:  0.97\n",
      "----------------------------\n",
      "Model: Y = 0.56 * X + 6.33\n"
     ]
    },
    {
     "data": {
      "image/png": "[encoded data removed]",
      "text/plain": [
       "<Figure size 432x288 with 1 Axes>"
      ]
     },
     "metadata": {},
     "output_type": "display_data"
    }
   ],
   "source": [
    "def slope(X, Y):\n",
    "    return ((X.mean() * Y.mean()) - ((X * Y).sum() / len(X))) / ((X.mean()**2) - ((X * X).mean()))\n",
    "\n",
    "def y_intercept(X, Y):\n",
    "    return Y.mean() - (slope(X, Y) * X.mean())\n",
    "\n",
    "def y_pred(m, X, b):   \n",
    "    return m*X + b\n",
    "\n",
    "def r_squared(Y, Y_pred):\n",
    "    return 1 - (((Y - Y_pred)**2).sum() / ((Y - Y.mean())**2).sum())\n",
    "\n",
    "print(\"Basic Regression Diagnostics\")\n",
    "print(\"----------------------------\")\n",
    "m = slope(X, Y)\n",
    "print(\"Slope: {}\".format(round(m, 2)))\n",
    "b = y_intercept(X, Y)\n",
    "print(\"Y-Intercept:  {}\".format(round(b, 2)))\n",
    "reg_line = y_pred(m, X, b)\n",
    "#print(\"Y-pred:  {}\".format(Y_pred))\n",
    "r_sq = r_squared(Y, reg_line)\n",
    "print(\"R-Squared:  {}\".format(round(r_sq, 2)))\n",
    "print(\"----------------------------\")\n",
    "print(\"Model: Y = {} * X + {}\".format(round(m, 2), round(b, 2)))\n",
    "\n",
    "import matplotlib.pyplot as plt\n",
    "%matplotlib inline\n",
    "import seaborn as sns\n",
    "\n",
    "sns.set_style('darkgrid')\n",
    "\n",
    "plt.scatter(X, Y, color='blue')\n",
    "plt.plot(X, reg_line, color='red')\n",
    "\n",
    "plt.legend(['regression line', 'data'], loc='lower right')\n",
    "plt.show();"
   ]
  },
  {
   "cell_type": "markdown",
   "metadata": {},
   "source": [
    "## Make Predictions\n",
    "\n",
    "Predict and plot the value of y using regression line above for a new value of $x = 4.5$."
   ]
  },
  {
   "cell_type": "code",
   "execution_count": 3,
   "metadata": {},
   "outputs": [
    {
     "data": {
      "image/png": "[encoded data removed]",
      "text/plain": [
       "<Figure size 432x288 with 1 Axes>"
      ]
     },
     "metadata": {
      "needs_background": "light"
     },
     "output_type": "display_data"
    }
   ],
   "source": [
    "# Make prediction for x = 4.5 and visualize on the scatter plot\n",
    "plt.scatter(X, Y, color='red')\n",
    "plt.plot(X, reg_line, color='green')\n",
    "\n",
    "X_pred = np.array([4.5])\n",
    "Y_pred = y_pred(m, X_pred, b)\n",
    "plt.scatter(X_pred, Y_pred, color='blue')\n",
    "\n",
    "plt.legend(['regression line', 'data', 'Prediction for h={}: w={}'.format(round(X_pred[0], 1), round(Y_pred[0], 1))], loc='lower right')\n",
    "plt.show();"
   ]
  },
  {
   "cell_type": "markdown",
   "metadata": {},
   "source": [
    "## Level up - Optional \n",
    "Load the \"`heightweight.csv`\" dataset. Use the height as an independent and weight as a dependent variable and draw a regression line to data using your code above. Calculate your R-Squared value for the model and try to predict new values of y. "
   ]
  },
  {
   "cell_type": "code",
   "execution_count": 4,
   "metadata": {},
   "outputs": [
    {
     "data": {
      "text/html": [
       "<div>\n",
       "<style scoped>\n",
       "    .dataframe tbody tr th:only-of-type {\n",
       "        vertical-align: middle;\n",
       "    }\n",
       "\n",
       "    .dataframe tbody tr th {\n",
       "        vertical-align: top;\n",
       "    }\n",
       "\n",
       "    .dataframe thead th {\n",
       "        text-align: right;\n",
       "    }\n",
       "</style>\n",
       "<table border=\"1\" class=\"dataframe\">\n",
       "  <thead>\n",
       "    <tr style=\"text-align: right;\">\n",
       "      <th></th>\n",
       "      <th>height</th>\n",
       "      <th>weight</th>\n",
       "    </tr>\n",
       "  </thead>\n",
       "  <tbody>\n",
       "    <tr>\n",
       "      <td>0</td>\n",
       "      <td>68</td>\n",
       "      <td>165</td>\n",
       "    </tr>\n",
       "    <tr>\n",
       "      <td>1</td>\n",
       "      <td>71</td>\n",
       "      <td>201</td>\n",
       "    </tr>\n",
       "    <tr>\n",
       "      <td>2</td>\n",
       "      <td>61</td>\n",
       "      <td>140</td>\n",
       "    </tr>\n",
       "    <tr>\n",
       "      <td>3</td>\n",
       "      <td>69</td>\n",
       "      <td>170</td>\n",
       "    </tr>\n",
       "    <tr>\n",
       "      <td>4</td>\n",
       "      <td>71</td>\n",
       "      <td>192</td>\n",
       "    </tr>\n",
       "  </tbody>\n",
       "</table>\n",
       "</div>"
      ],
      "text/plain": [
       "   height  weight\n",
       "0      68     165\n",
       "1      71     201\n",
       "2      61     140\n",
       "3      69     170\n",
       "4      71     192"
      ]
     },
     "execution_count": 4,
     "metadata": {},
     "output_type": "execute_result"
    }
   ],
   "source": [
    "import pandas as pd\n",
    "\n",
    "df = pd.read_csv('heightweight.csv')\n",
    "df.head()"
   ]
  },
  {
   "cell_type": "code",
   "execution_count": 5,
   "metadata": {},
   "outputs": [
    {
     "name": "stdout",
     "output_type": "stream",
     "text": [
      "----------------------------\n",
      "Slope: 5.54\n",
      "Y-Intercept:  -204.48\n",
      "R-Squared:  0.96\n",
      "----------------------------\n",
      "Model: Y = 5.54 * X + -204.48\n"
     ]
    },
    {
     "data": {
      "image/png": "[encoded data removed]",
      "text/plain": [
       "<Figure size 432x288 with 1 Axes>"
      ]
     },
     "metadata": {
      "needs_background": "light"
     },
     "output_type": "display_data"
    }
   ],
   "source": [
    "print(\"----------------------------\")\n",
    "X = df['height']\n",
    "Y = df['weight']\n",
    "m = slope(X, Y)\n",
    "print(\"Slope: {}\".format(round(m, 2)))\n",
    "b = y_intercept(X, Y)\n",
    "print(\"Y-Intercept:  {}\".format(round(b, 2)))\n",
    "reg_line = y_pred(m, X, b)\n",
    "r_sq = r_squared(Y, reg_line)\n",
    "print(\"R-Squared:  {}\".format(round(r_sq, 2)))\n",
    "print(\"----------------------------\")\n",
    "print(\"Model: Y = {} * X + {}\".format(round(m, 2), round(b, 2)))\n",
    "\n",
    "plt.scatter(X, Y, color='red')\n",
    "plt.plot(X, reg_line, color='green')\n",
    "\n",
    "X_pred = np.array([72])\n",
    "Y_pred = y_pred(m, X_pred, b)\n",
    "plt.scatter(X_pred, Y_pred, color='blue')\n",
    "\n",
    "plt.legend(['regression line', 'data', 'Prediction for h = {}: w = {}'.format(round(X_pred[0], 1), round(Y_pred[0], 1))], loc='lower right')\n",
    "plt.xlabel(df.columns[0])\n",
    "plt.ylabel(df.columns[1])\n",
    "plt.show();"
   ]
  },
  {
   "cell_type": "markdown",
   "metadata": {},
   "source": [
    "## Summary\n",
    "\n",
    "In this lab, we ran a complete simple regression analysis experiment using functions created so far. Next up, you'll learn how you can use python's built-in modules to perform similar analyses with a much higher level of sophistication. "
   ]
  }
 ],
 "metadata": {
  "kernelspec": {
   "display_name": "Python 3",
   "language": "python",
   "name": "python3"
  },
  "language_info": {
   "codemirror_mode": {
    "name": "ipython",
    "version": 3
   },
   "file_extension": ".py",
   "mimetype": "text/x-python",
   "name": "python",
   "nbconvert_exporter": "python",
   "pygments_lexer": "ipython3",
   "version": "3.6.9"
  }
 },
 "nbformat": 4,
 "nbformat_minor": 2
}
